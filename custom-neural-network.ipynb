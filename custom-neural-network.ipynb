{
 "cells": [
  {
   "cell_type": "code",
   "execution_count": 1,
   "id": "878f9bac",
   "metadata": {},
   "outputs": [],
   "source": [
    "import numpy as np\n",
    "import os\n",
    "import pandas as pd\n",
    "\n",
    "#Accuracy measurement\n",
    "from sklearn.metrics import confusion_matrix\n",
    "from sklearn.utils import shuffle\n",
    "\n",
    "\n",
    "#Visualaization\n",
    "import seaborn as sns\n",
    "import matplotlib.pyplot as plt\n",
    "\n",
    "\n",
    "#Model Module\n",
    "import tensorflow as tf\n",
    "from tensorflow.keras.preprocessing.image import ImageDataGenerator\n",
    "from tensorflow.keras.layers import Dense, Conv2D, MaxPooling2D, Dropout, Activation, Flatten\n",
    "from tensorflow.keras import backend as bk\n",
    "\n",
    "from tensorflow.keras.optimizers import SGD, Adam, RMSprop, Adagrad, Adamax\n",
    "from tensorflow.keras.models import Sequential\n",
    "\n",
    "\n",
    "from tqdm import tqdm\n",
    "import cv2"
   ]
  },
  {
   "cell_type": "code",
   "execution_count": 2,
   "id": "8d979fae",
   "metadata": {},
   "outputs": [],
   "source": [
    "classNames = [\"cats\", 'dogs']\n",
    "classNameslabels = {classnames: i for i, classnames in enumerate(classNames)}"
   ]
  },
  {
   "cell_type": "code",
   "execution_count": 3,
   "id": "a4a64e2e",
   "metadata": {},
   "outputs": [],
   "source": [
    "image_shape = (128, 128)"
   ]
  },
  {
   "cell_type": "code",
   "execution_count": 4,
   "id": "bd31672a",
   "metadata": {},
   "outputs": [],
   "source": [
    "def datasetLoaderFromDirectory():\n",
    "    #Load datasets from folder\n",
    "    dataset_path = [\"dataset/training_set/\", \"dataset/test_set/\"]\n",
    "    #Store data into the list with their paths\n",
    "    imageataOutput = []\n",
    "    # Tag each data path file\n",
    "    for i in dataset_path:\n",
    "        #List for image ata\n",
    "        images = []\n",
    "        #list for class names\n",
    "        labels = []\n",
    "        print(\"Counting : {}\".format(i))\n",
    "\n",
    "            \n",
    "        for j in os.listdir(i):\n",
    "            label = classNameslabels[j]\n",
    "            for imagedatafile in tqdm(os.listdir(os.path.join(i, j))):\n",
    "                \n",
    "                imagePath = os.path.join(os.path.join(i, j), imagedatafile)\n",
    "                \n",
    "                #image Read & Preprocessing\n",
    "                image = cv2.imread(imagePath)\n",
    "                image = cv2.cvtColor(image, cv2.COLOR_BGR2RGB)\n",
    "                image = cv2.resize(image, image_shape)\n",
    "                \n",
    "                #print(\"Images: \", image)\n",
    "                \n",
    "                images.append(image)\n",
    "                labels.append(label)\n",
    "\n",
    "        images = np.array(images, dtype = \"float32\")\n",
    "        labels = np.array(labels, dtype = 'float32')\n",
    "        #print(images)\n",
    "        imageataOutput.append((images, labels))\n",
    "    \n",
    "    return imageataOutput"
   ]
  },
  {
   "cell_type": "code",
   "execution_count": 5,
   "id": "91a7e3ee",
   "metadata": {},
   "outputs": [
    {
     "name": "stdout",
     "output_type": "stream",
     "text": [
      "Counting : dataset/training_set/\n"
     ]
    },
    {
     "name": "stderr",
     "output_type": "stream",
     "text": [
      "100%|██████████████████████████████████████████████████████████████████████████████| 4000/4000 [00:40<00:00, 99.49it/s]\n",
      "100%|█████████████████████████████████████████████████████████████████████████████| 4000/4000 [00:27<00:00, 147.10it/s]\n"
     ]
    },
    {
     "name": "stdout",
     "output_type": "stream",
     "text": [
      "Counting : dataset/test_set/\n"
     ]
    },
    {
     "name": "stderr",
     "output_type": "stream",
     "text": [
      "100%|█████████████████████████████████████████████████████████████████████████████| 1000/1000 [00:05<00:00, 169.97it/s]\n",
      "100%|█████████████████████████████████████████████████████████████████████████████| 1000/1000 [00:06<00:00, 161.90it/s]\n"
     ]
    }
   ],
   "source": []
  },
  {
   "cell_type": "code",
   "execution_count": 6,
   "id": "a6729b77",
   "metadata": {},
   "outputs": [],
   "source": [
    "train_images, train_labels = shuffle(train_image, train_labels, random_state = 26)"
   ]
  },
  {
   "cell_type": "code",
   "execution_count": 7,
   "id": "f345deb9",
   "metadata": {},
   "outputs": [],
   "source": [
    "_,trainImageLabelInfo = np.unique(train_labels , return_counts=True)\n",
    "_,testImageLabelInfo = np.unique(test_labels , return_counts=True )"
   ]
  },
  {
   "cell_type": "code",
   "execution_count": 8,
   "id": "a9d25d0e",
   "metadata": {},
   "outputs": [
    {
     "name": "stdout",
     "output_type": "stream",
     "text": [
      "Train image label information for 0 class  4000\n",
      "Train image label information for 1 class  4000\n",
      "-----------------------------------------------------------------------\n",
      "Test image label information for 0 class  1000\n",
      "Test image label information for 1 class  1000\n"
     ]
    }
   ],
   "source": [
    "print('Train image label information for 0 class ', trainImageLabelInfo[0])\n",
    "print('Train image label information for 1 class ', trainImageLabelInfo[1])\n",
    "\n",
    "print('-----------------------------------------------------------------------')\n",
    "\n",
    "\n",
    "print('Test image label information for 0 class ', testImageLabelInfo[0])\n",
    "print('Test image label information for 1 class ', testImageLabelInfo[1])"
   ]
  },
  {
   "cell_type": "code",
   "execution_count": 9,
   "id": "8b8f1ba3",
   "metadata": {},
   "outputs": [],
   "source": [
    "# Scaling image featues \n",
    "train_images = train_images/255.0\n",
    "test_image = test_image/255.0"
   ]
  },
  {
   "cell_type": "code",
   "execution_count": 10,
   "id": "2f015083",
   "metadata": {},
   "outputs": [],
   "source": [
    "model = Sequential()\n",
    "\n",
    "\n",
    "#Input Layer\n",
    "model.add(Conv2D(filters = 32, kernel_size = (11, 11), padding = \"same\", activation = \"relu\", input_shape = (180,180, 3)))\n",
    "model.add(Conv2D(filters = 32, kernel_size = (11, 11), padding = \"same\", activation = \"relu\"))\n",
    "model.add(MaxPooling2D(pool_size = (2,2), strides = (3, 3)))\n",
    "\n",
    "# #(224/2, 224/2) -- > (112, 112)\n",
    " #100\n",
    "\n",
    "#2nd Layer\n",
    "model.add(Conv2D(filters = 64, kernel_size = (11, 11), padding = \"same\", activation = \"relu\"))\n",
    "model.add(Conv2D(filters = 64,kernel_size = (11, 11), padding = \"same\", activation = \"relu\"))\n",
    "model.add(MaxPooling2D(pool_size = (2, 2), strides = (3, 3)))\n",
    "\n",
    "# 100 + 40\n",
    "#3rd Layer\n",
    "model.add(Conv2D(filters = 128, kernel_size = (11, 11), padding = \"same\", activation = \"relu\"))\n",
    "model.add(Conv2D(filters = 128, kernel_size = (11, 11), padding = \"same\", activation = \"relu\"))\n",
    "model.add(Conv2D(filters = 128, kernel_size = (11, 11), padding = \"same\", activation = \"relu\"))\n",
    "model.add(MaxPooling2D(pool_size = (2, 2), strides = (3, 3)))\n",
    "\n",
    "\n",
    "#5th Layer\n",
    "model.add(Conv2D(filters = 256, kernel_size = (11, 11), padding = \"same\", activation = \"relu\"))\n",
    "model.add(Conv2D(filters = 256, kernel_size = (11, 11), padding = \"same\", activation = \"relu\"))\n",
    "model.add(Conv2D(filters = 256, kernel_size = (11, 11), padding = \"same\", activation = \"relu\"))\n",
    "model.add(Conv2D(filters = 256, kernel_size = (11, 11), padding = \"same\", activation = \"relu\"))\n",
    "model.add(MaxPooling2D(pool_size = (2, 2), strides = (3, 3)))\n",
    "\n",
    "\n",
    "#6th layer\n",
    "model.add(Conv2D(filters = 256, kernel_size = (11, 11), padding = \"same\", activation = \"relu\"))\n",
    "model.add(Conv2D(filters = 256, kernel_size = (11, 11), padding = \"same\", activation = \"relu\"))\n",
    "model.add(Conv2D(filters = 256, kernel_size = (11, 11), padding = \"same\", activation = \"relu\"))\n",
    "model.add(Conv2D(filters = 256, kernel_size = (11, 11), padding = \"same\", activation = \"relu\"))\n",
    "model.add(MaxPooling2D(pool_size = (2, 2), strides = (3, 3)))\n",
    "\n",
    "\n",
    "model.add(Flatten())\n",
    "\n",
    "\n",
    "#Output Layer\n",
    "model.add(Dense(2028, activation = \"relu\")) \n",
    "model.add(Dense(2048, activation = \"relu\"))\n",
    "model.add(Dense(2, activation = \"softmax\"))"
   ]
  },
  {
   "cell_type": "code",
   "execution_count": 11,
   "id": "108017e1",
   "metadata": {},
   "outputs": [
    {
     "name": "stdout",
     "output_type": "stream",
     "text": [
      "Model: \"sequential\"\n",
      "_________________________________________________________________\n",
      "Layer (type)                 Output Shape              Param #   \n",
      "=================================================================\n",
      "conv2d (Conv2D)              (None, 180, 180, 32)      11648     \n",
      "_________________________________________________________________\n",
      "conv2d_1 (Conv2D)            (None, 180, 180, 32)      123936    \n",
      "_________________________________________________________________\n",
      "max_pooling2d (MaxPooling2D) (None, 60, 60, 32)        0         \n",
      "_________________________________________________________________\n",
      "conv2d_2 (Conv2D)            (None, 60, 60, 64)        247872    \n",
      "_________________________________________________________________\n",
      "conv2d_3 (Conv2D)            (None, 60, 60, 64)        495680    \n",
      "_________________________________________________________________\n",
      "max_pooling2d_1 (MaxPooling2 (None, 20, 20, 64)        0         \n",
      "_________________________________________________________________\n",
      "conv2d_4 (Conv2D)            (None, 20, 20, 128)       991360    \n",
      "_________________________________________________________________\n",
      "conv2d_5 (Conv2D)            (None, 20, 20, 128)       1982592   \n",
      "_________________________________________________________________\n",
      "conv2d_6 (Conv2D)            (None, 20, 20, 128)       1982592   \n",
      "_________________________________________________________________\n",
      "max_pooling2d_2 (MaxPooling2 (None, 7, 7, 128)         0         \n",
      "_________________________________________________________________\n",
      "conv2d_7 (Conv2D)            (None, 7, 7, 256)         3965184   \n",
      "_________________________________________________________________\n",
      "conv2d_8 (Conv2D)            (None, 7, 7, 256)         7930112   \n",
      "_________________________________________________________________\n",
      "conv2d_9 (Conv2D)            (None, 7, 7, 256)         7930112   \n",
      "_________________________________________________________________\n",
      "conv2d_10 (Conv2D)           (None, 7, 7, 256)         7930112   \n",
      "_________________________________________________________________\n",
      "max_pooling2d_3 (MaxPooling2 (None, 2, 2, 256)         0         \n",
      "_________________________________________________________________\n",
      "conv2d_11 (Conv2D)           (None, 2, 2, 256)         7930112   \n",
      "_________________________________________________________________\n",
      "conv2d_12 (Conv2D)           (None, 2, 2, 256)         7930112   \n",
      "_________________________________________________________________\n",
      "conv2d_13 (Conv2D)           (None, 2, 2, 256)         7930112   \n",
      "_________________________________________________________________\n",
      "conv2d_14 (Conv2D)           (None, 2, 2, 256)         7930112   \n",
      "_________________________________________________________________\n",
      "max_pooling2d_4 (MaxPooling2 (None, 1, 1, 256)         0         \n",
      "_________________________________________________________________\n",
      "flatten (Flatten)            (None, 256)               0         \n",
      "_________________________________________________________________\n",
      "dense (Dense)                (None, 2028)              521196    \n",
      "_________________________________________________________________\n",
      "dense_1 (Dense)              (None, 2048)              4155392   \n",
      "_________________________________________________________________\n",
      "dense_2 (Dense)              (None, 2)                 4098      \n",
      "=================================================================\n",
      "Total params: 69,992,334\n",
      "Trainable params: 69,992,334\n",
      "Non-trainable params: 0\n",
      "_________________________________________________________________\n"
     ]
    }
   ],
   "source": [
    "model.summary()"
   ]
  },
  {
   "cell_type": "code",
   "execution_count": 12,
   "id": "79d553d8",
   "metadata": {},
   "outputs": [],
   "source": [
    "model.compile(optimizer = 'adam',\n",
    "             loss = \"sparse_categorical_crossentropy\",#since label is integer\n",
    "             metrics = ['accuracy'])"
   ]
  },
  {
   "cell_type": "code",
   "execution_count": 13,
   "id": "c3f6ac17",
   "metadata": {},
   "outputs": [
    {
     "name": "stdout",
     "output_type": "stream",
     "text": [
      "Epoch 1/5\n",
      "WARNING:tensorflow:Model was constructed with shape (None, 180, 180, 3) for input KerasTensor(type_spec=TensorSpec(shape=(None, 180, 180, 3), dtype=tf.float32, name='conv2d_input'), name='conv2d_input', description=\"created by layer 'conv2d_input'\"), but it was called on an input with incompatible shape (32, 128, 128, 3).\n",
      "WARNING:tensorflow:Model was constructed with shape (None, 180, 180, 3) for input KerasTensor(type_spec=TensorSpec(shape=(None, 180, 180, 3), dtype=tf.float32, name='conv2d_input'), name='conv2d_input', description=\"created by layer 'conv2d_input'\"), but it was called on an input with incompatible shape (32, 128, 128, 3).\n",
      "200/200 [==============================] - ETA: 0s - loss: 0.6935 - accuracy: 0.4969 WARNING:tensorflow:Model was constructed with shape (None, 180, 180, 3) for input KerasTensor(type_spec=TensorSpec(shape=(None, 180, 180, 3), dtype=tf.float32, name='conv2d_input'), name='conv2d_input', description=\"created by layer 'conv2d_input'\"), but it was called on an input with incompatible shape (32, 128, 128, 3).\n",
      "200/200 [==============================] - 3592s 18s/step - loss: 0.6935 - accuracy: 0.4969 - val_loss: 0.6933 - val_accuracy: 0.4963\n",
      "Epoch 2/5\n",
      "200/200 [==============================] - 6409s 32s/step - loss: 0.6934 - accuracy: 0.5000 - val_loss: 0.6932 - val_accuracy: 0.4963\n",
      "Epoch 3/5\n",
      "200/200 [==============================] - 3298s 17s/step - loss: 0.6932 - accuracy: 0.5016 - val_loss: 0.6932 - val_accuracy: 0.4963\n",
      "Epoch 4/5\n",
      "200/200 [==============================] - 2999s 15s/step - loss: 0.6933 - accuracy: 0.5009 - val_loss: 0.6932 - val_accuracy: 0.4963\n",
      "Epoch 5/5\n",
      "200/200 [==============================] - 4146s 21s/step - loss: 0.6933 - accuracy: 0.4988 - val_loss: 0.6932 - val_accuracy: 0.4963\n"
     ]
    }
   ],
   "source": [
    "modelData = model.fit(train_images,\n",
    "                     train_labels,\n",
    "                      epochs = 5,\n",
    "                     batch_size = 32,\n",
    "                     validation_split=0.2)"
   ]
  },
  {
   "cell_type": "code",
   "execution_count": 14,
   "id": "9a901b1a",
   "metadata": {},
   "outputs": [],
   "source": [
    "def accuracy_and_loss_plot(modelData):\n",
    "    fig = plt.figure(figsize=(10,10))\n",
    "    \n",
    "    plt.subplot(221)\n",
    "    plt.plot(modelData.history['accuracy'],'bo--', label ='accuracy')\n",
    "    plt.plot(modelData.history['val_accuracy'], 'ro--', label ='val_accuracy')\n",
    "    plt.title('Training Data accuracy measurement')\n",
    "    plt.xlabel('Number of Epoch')\n",
    "    plt.ylabel('Accuracy Measurement')\n",
    "    plt.grid()\n",
    "    plt.legend()\n",
    "    plt.tight_layout()\n",
    "    \n",
    "    \n",
    "    plt.subplot(222)\n",
    "    plt.plot(modelData.history['loss'],'bo--', label = 'loss')\n",
    "    plt.plot(modelData.history['val_loss'], 'ro--', label = 'val_loss')\n",
    "    plt.title('Training Data Accuracy Information')\n",
    "    plt.xlabel('Number of Epoch')\n",
    "    plt.ylabel('Accuracy Measurement')\n",
    "    plt.grid()\n",
    "    plt.legend()\n",
    "    plt.tight_layout()\n",
    "    \n",
    "    \n",
    "    plt.show()"
   ]
  },
  {
   "cell_type": "code",
   "execution_count": 15,
   "id": "4323d860",
   "metadata": {},
   "outputs": [
    {
     "data": {
      "image/png": "[encoded data removed]",
      "text/plain": [
       "<Figure size 720x720 with 2 Axes>"
      ]
     },
     "metadata": {
      "needs_background": "light"
     },
     "output_type": "display_data"
    }
   ],
   "source": [
    "accuracy_and_loss_plot(modelData)"
   ]
  },
  {
   "cell_type": "code",
   "execution_count": null,
   "id": "538bde75",
   "metadata": {},
   "outputs": [],
   "source": []
  }
 ],
 "metadata": {
  "kernelspec": {
   "display_name": "Python 3 (ipykernel)",
   "language": "python",
   "name": "python3"
  },
  "language_info": {
   "codemirror_mode": {
    "name": "ipython",
    "version": 3
   },
   "file_extension": ".py",
   "mimetype": "text/x-python",
   "name": "python",
   "nbconvert_exporter": "python",
   "pygments_lexer": "ipython3",
   "version": "3.9.12"
  }
 },
 "nbformat": 4,
 "nbformat_minor": 5
}
